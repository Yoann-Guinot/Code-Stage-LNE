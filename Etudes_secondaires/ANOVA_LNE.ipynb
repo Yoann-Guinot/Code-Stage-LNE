{
  "nbformat": 4,
  "nbformat_minor": 0,
  "metadata": {
    "colab": {
      "provenance": []
    },
    "kernelspec": {
      "name": "python3",
      "display_name": "Python 3"
    },
    "language_info": {
      "name": "python"
    }
  },
  "cells": [
    {
      "cell_type": "code",
      "execution_count": null,
      "metadata": {
        "id": "NDnX5wiaWj9k"
      },
      "outputs": [],
      "source": [
        "import pandas as pd\n",
        "import statsmodels.formula.api as smf\n",
        "import seaborn as sns\n",
        "import matplotlib.pyplot as plt\n",
        "\n",
        "mesures = pd.read_excel(r\"~/Données/Mesures_au_LNE.xlsx\")\n",
        "display(mesures)"
      ]
    },
    {
      "cell_type": "markdown",
      "source": [
        "**Problématique**\n",
        "\n",
        "On veut tester l’effet de deux facteurs hiérarchiques (campagne, aliquot) sur une mesure, avec potentiellement plusieurs matériaux.\n",
        "\n",
        "**Modèle statistique choisi**\n",
        "\n",
        "Une ANOVA à effets mixtes est adaptée :\n",
        "\n",
        "- Matériau : effet fixe (comparaison explicite des matériaux)\n",
        "- Campagne : effet aléatoire (échantillonnage de toutes les campagnes possibles)\n",
        "- Aliquot : effet aléatoire imbriqué dans campagne (chaque aliquot appartient à une campagne)\n",
        "- Répétition : bruit expérimental\n",
        "\n",
        "**Formule mathématique**\n",
        "\n",
        "$$\n",
        "Y_{ijkl} = \\mu + Matériau_i + Campagne_j + Aliquot_{k(j)} + ε_{l(ijk)}\n",
        "$$\n",
        "\n",
        "- $\\mu$ : moyenne générale\n",
        "- $Matériau_i$ : effet fixe du matériau $i$\n",
        "- $Campagne_j$ : effet aléatoire de la campagne $j$\n",
        "- $Aliquot_{k(j)}$ : effet aléatoire de l’aliquot $k$ dans la campagne $j$\n",
        "- $ε_{l(ijk)}$ : erreur résiduelle"
      ],
      "metadata": {
        "id": "Awyra5qbXfMj"
      }
    },
    {
      "cell_type": "code",
      "source": [
        "md = smf.mixedlm(\"Values ~ Material\", mesures,\n",
        "                 groups = mesures[\"Campaign\"],\n",
        "                 re_formula = \"~ Aliquot\")\n",
        "mdf = md.fit()\n",
        "print(mdf.summary())"
      ],
      "metadata": {
        "id": "kpYch1xRYMcM"
      },
      "execution_count": null,
      "outputs": []
    },
    {
      "cell_type": "code",
      "source": [
        "plt.figure(figsize = (12,6))\n",
        "sns.boxplot(x = \"Campaign\", y = \"Values\", hue = \"Aliquot\", data = mesures)\n",
        "plt.title(\"Distribution des mesures par campagne et aliquot\")\n",
        "plt.show()"
      ],
      "metadata": {
        "id": "vurxuHB-YPWm"
      },
      "execution_count": null,
      "outputs": []
    }
  ]
}
